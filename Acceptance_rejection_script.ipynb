{
 "cells": [
  {
   "cell_type": "code",
   "execution_count": 596,
   "id": "c51a7123",
   "metadata": {},
   "outputs": [],
   "source": [
    "import pandas as pd\n",
    "import json\n",
    "from collections import Counter"
   ]
  },
  {
   "cell_type": "code",
   "execution_count": 597,
   "id": "75579ad1",
   "metadata": {},
   "outputs": [],
   "source": [
    "pool = pd.read_csv('ukr_ru_pool_last_batch.tsv', delimiter='\\t')\n",
    "pool = pool[['INPUT:text1', 'INPUT:text2', \n",
    "             'INPUT:source1', 'INPUT:source2',\n",
    "             'INPUT:summ_text1', 'INPUT:summ_text2',\n",
    "             'INPUT:summ_with_documents_text1', 'INPUT:summ_with_documents_text2',\n",
    "             'OUTPUT:result', 'OUTPUT:comment', 'OUTPUT:main_result',\n",
    "             'OUTPUT:type_problems_article_1', 'OUTPUT:type_problems_article_2',\n",
    "             'OUTPUT:comment_which_problems_article_1',\n",
    "             'OUTPUT:comment_which_problems_article_2',\n",
    "             'ASSIGNMENT:link', 'ASSIGNMENT:task_id',\n",
    "             'ASSIGNMENT:assignment_id', 'ASSIGNMENT:worker_id']].copy()\n",
    "pool.rename(columns=lambda x: x.split(':')[1], inplace=True)\n",
    "pool.rename(columns={'main_result':'what_same', 'comment':'what_comment'}, inplace=True)"
   ]
  },
  {
   "cell_type": "code",
   "execution_count": 598,
   "id": "1d621863",
   "metadata": {},
   "outputs": [
    {
     "data": {
      "text/html": [
       "<div>\n",
       "<style scoped>\n",
       "    .dataframe tbody tr th:only-of-type {\n",
       "        vertical-align: middle;\n",
       "    }\n",
       "\n",
       "    .dataframe tbody tr th {\n",
       "        vertical-align: top;\n",
       "    }\n",
       "\n",
       "    .dataframe thead th {\n",
       "        text-align: right;\n",
       "    }\n",
       "</style>\n",
       "<table border=\"1\" class=\"dataframe\">\n",
       "  <thead>\n",
       "    <tr style=\"text-align: right;\">\n",
       "      <th></th>\n",
       "      <th>text1</th>\n",
       "      <th>text2</th>\n",
       "      <th>source1</th>\n",
       "      <th>source2</th>\n",
       "      <th>summ_text1</th>\n",
       "      <th>summ_text2</th>\n",
       "      <th>summ_with_documents_text1</th>\n",
       "      <th>summ_with_documents_text2</th>\n",
       "      <th>result</th>\n",
       "      <th>what_comment</th>\n",
       "      <th>what_same</th>\n",
       "      <th>type_problems_article_1</th>\n",
       "      <th>type_problems_article_2</th>\n",
       "      <th>comment_which_problems_article_1</th>\n",
       "      <th>comment_which_problems_article_2</th>\n",
       "      <th>link</th>\n",
       "      <th>task_id</th>\n",
       "      <th>assignment_id</th>\n",
       "      <th>worker_id</th>\n",
       "    </tr>\n",
       "  </thead>\n",
       "  <tbody>\n",
       "  </tbody>\n",
       "</table>\n",
       "</div>"
      ],
      "text/plain": [
       "Empty DataFrame\n",
       "Columns: [text1, text2, source1, source2, summ_text1, summ_text2, summ_with_documents_text1, summ_with_documents_text2, result, what_comment, what_same, type_problems_article_1, type_problems_article_2, comment_which_problems_article_1, comment_which_problems_article_2, link, task_id, assignment_id, worker_id]\n",
       "Index: []"
      ]
     },
     "execution_count": 598,
     "metadata": {},
     "output_type": "execute_result"
    }
   ],
   "source": [
    "pool[pool[\"type_problems_article_1\"].notna()]"
   ]
  },
  {
   "cell_type": "code",
   "execution_count": 601,
   "id": "84e6b93f",
   "metadata": {},
   "outputs": [
    {
     "data": {
      "text/html": [
       "<div>\n",
       "<style scoped>\n",
       "    .dataframe tbody tr th:only-of-type {\n",
       "        vertical-align: middle;\n",
       "    }\n",
       "\n",
       "    .dataframe tbody tr th {\n",
       "        vertical-align: top;\n",
       "    }\n",
       "\n",
       "    .dataframe thead th {\n",
       "        text-align: right;\n",
       "    }\n",
       "</style>\n",
       "<table border=\"1\" class=\"dataframe\">\n",
       "  <thead>\n",
       "    <tr style=\"text-align: right;\">\n",
       "      <th></th>\n",
       "      <th>text1</th>\n",
       "      <th>text2</th>\n",
       "      <th>source1</th>\n",
       "      <th>source2</th>\n",
       "      <th>summ_text1</th>\n",
       "      <th>summ_text2</th>\n",
       "      <th>summ_with_documents_text1</th>\n",
       "      <th>summ_with_documents_text2</th>\n",
       "      <th>result</th>\n",
       "      <th>what_comment</th>\n",
       "      <th>what_same</th>\n",
       "      <th>type_problems_article_1</th>\n",
       "      <th>type_problems_article_2</th>\n",
       "      <th>comment_which_problems_article_1</th>\n",
       "      <th>comment_which_problems_article_2</th>\n",
       "      <th>link</th>\n",
       "      <th>task_id</th>\n",
       "      <th>assignment_id</th>\n",
       "      <th>worker_id</th>\n",
       "    </tr>\n",
       "  </thead>\n",
       "  <tbody>\n",
       "  </tbody>\n",
       "</table>\n",
       "</div>"
      ],
      "text/plain": [
       "Empty DataFrame\n",
       "Columns: [text1, text2, source1, source2, summ_text1, summ_text2, summ_with_documents_text1, summ_with_documents_text2, result, what_comment, what_same, type_problems_article_1, type_problems_article_2, comment_which_problems_article_1, comment_which_problems_article_2, link, task_id, assignment_id, worker_id]\n",
       "Index: []"
      ]
     },
     "execution_count": 601,
     "metadata": {},
     "output_type": "execute_result"
    }
   ],
   "source": [
    "pool[pool[\"type_problems_article_2\"].notna()]"
   ]
  },
  {
   "cell_type": "markdown",
   "id": "fe7f73f5",
   "metadata": {},
   "source": [
    "# WHAT/WHO/WHERE/WHEN MV"
   ]
  },
  {
   "cell_type": "code",
   "execution_count": 610,
   "id": "44500459",
   "metadata": {},
   "outputs": [],
   "source": [
    "def parse_columns(result):\n",
    "    json_dict = json.loads(result)\n",
    "    return pd.Series([json_dict['who_same'], json_dict['where_same'], json_dict['when_same']], \n",
    "                     index=['who_same', 'where_same', 'when_same'])\n",
    "\n",
    "pool[['who_same', 'where_same', 'when_same']] = pool['result'].apply(parse_columns)"
   ]
  },
  {
   "cell_type": "code",
   "execution_count": 611,
   "id": "76531fab",
   "metadata": {},
   "outputs": [],
   "source": [
    "def MV(list_for_MV):\n",
    "    word_counts = Counter(list_for_MV)\n",
    "    most_common_word, frequency = word_counts.most_common(1)[0]\n",
    "    if frequency > 1:\n",
    "        return most_common_word\n",
    "    else:\n",
    "        return 'disagreement'\n",
    "\n",
    "\n",
    "grouped = pool.groupby('task_id').agg({\n",
    "    'who_same': MV,\n",
    "    'where_same': MV,\n",
    "    'when_same': MV,\n",
    "    'what_same': MV,\n",
    "})\n",
    "\n",
    "grouped.rename(columns={'who_same': 'aggregated_who',\n",
    "                        'what_same': 'aggregated_what',\n",
    "                        'when_same': 'aggregated_when',\n",
    "                        'where_same': 'aggregated_where',\n",
    "                       }, inplace=True)\n",
    "    \n",
    "\n",
    "pool = pd.merge(pool, grouped, on='task_id', how='left')"
   ]
  },
  {
   "cell_type": "code",
   "execution_count": 612,
   "id": "17844af8",
   "metadata": {},
   "outputs": [],
   "source": [
    "pool[\"different_who\"] = (pool[\"aggregated_who\"] != pool[\"who_same\"])\n",
    "pool[\"different_when\"] = (pool[\"aggregated_when\"] != pool[\"when_same\"])\n",
    "pool[\"different_where\"] = (pool[\"aggregated_where\"] != pool[\"where_same\"])\n",
    "pool[\"different_what\"] = (pool[\"aggregated_what\"] != pool[\"what_same\"])"
   ]
  },
  {
   "cell_type": "markdown",
   "id": "cef39f54",
   "metadata": {},
   "source": [
    "# LLM"
   ]
  },
  {
   "cell_type": "code",
   "execution_count": 613,
   "id": "cec4399c",
   "metadata": {},
   "outputs": [],
   "source": [
    "import requests\n",
    "import configparser\n",
    "import cohere\n",
    "import time\n",
    "import re\n",
    "\n",
    "config = configparser.ConfigParser()\n",
    "config.read(\"keys.config\")\n",
    "\n",
    "hf_key = config['credentials']['hf_key']\n",
    "cohere_key = config['credentials']['cohere']\n",
    "\n",
    "co = cohere.Client(cohere_key)\n",
    "\n",
    "headers = {'Content-type': 'application/json', \"Authorization\": (f\"Bearer \" + hf_key)}\n",
    "\n",
    "def query_mistral(prompt,\n",
    "                  max_new_tokens=3,\n",
    "                  do_sample=False, \n",
    "                  temperature=0.01,\n",
    "                  top_p=0.99,\n",
    "                  return_full_text=False):\n",
    "    parameters = {'max_new_tokens':max_new_tokens, \n",
    "                  'return_full_text': return_full_text, \n",
    "                  'do_sample': True, \n",
    "                  'top_p':top_p, \n",
    "                  'temperature':temperature}\n",
    "    options = {'use_cache': False}\n",
    "    payload = {'inputs': prompt,\n",
    "               'parameters': parameters,\n",
    "               'options': options}\n",
    "    data = json.dumps(payload)\n",
    "    response = requests.request(\"POST\",\n",
    "                                \"https://api-inference.huggingface.co/models/mistralai/Mistral-7B-Instruct-v0.2\",\n",
    "                                headers=headers,\n",
    "                                data=data)\n",
    "    try:\n",
    "        print(json.loads(response.content.decode(\"utf-8\")))\n",
    "        return json.loads(response.content.decode(\"utf-8\"))[0]['generated_text']\n",
    "    except Exception as e:\n",
    "        print(json.loads(response.content.decode(\"utf-8\")))\n",
    "    return 'Model error'\n",
    "\n",
    "def query_command_r(prompt):\n",
    "    try:\n",
    "        response = co.chat(\n",
    "            model=\"command-r\",\n",
    "            message=prompt,\n",
    "            prompt_truncation=\"OFF\"\n",
    "        )\n",
    "        time.sleep(7)\n",
    "        print(response.text)\n",
    "        return response.text\n",
    "    except Exception as e:\n",
    "        print(e)\n",
    "        return e"
   ]
  },
  {
   "cell_type": "markdown",
   "id": "ebf7c6d9",
   "metadata": {},
   "source": [
    "# Different topics"
   ]
  },
  {
   "cell_type": "code",
   "execution_count": 614,
   "id": "059d6018",
   "metadata": {},
   "outputs": [],
   "source": [
    "def prompt_different_mistral(what_comment):\n",
    "    return f'''\n",
    "        <s>[INST]\n",
    "        You are provided a comment, explaining why news in a pair of news are different.\n",
    "        Your goal is to judge if out of this comment one can understand what these two news are about (Yes) or comment is just saying that the news are different (No).\n",
    "        For instance, out of the following comments: \n",
    "        - \"Иск от журналистов и суд над полицейским\"\n",
    "        Yes, both news are briefly summarized.\n",
    "        - \"Поединок с единоборств в США;обзор пятерки старых бойцов единоборств\"\n",
    "        Yes, both news are briefly summarized.\n",
    "        - \"Перша стаття про те, що в Дагестані налагоджено випуск кисневих вентилів для медобладнання у зв'язку з попитом, що виріс через пандемію. Друга стаття про проведення \"контртерористичної операції\" у Махачкалі та Каспійську.\"\n",
    "        Yes, both news are briefly summarized.\n",
    "        - \"Перша-ковид в Украине,друга-парад в России\"\n",
    "        Yes, both news are briefly summarized.\n",
    "        - \"Нападение на пенсионера и погода\"\n",
    "        Yes, both news are briefly summarized.\n",
    "        - \"події різні\"\n",
    "        No, it just says that news are different.\n",
    "        - \"зовсім різні події\"\n",
    "        No, it just says that news are different.\n",
    "        - \"події ніяк не зв'язані між собою\"\n",
    "        [/INST]\n",
    "        No\n",
    "        </s>\n",
    "        [INST]\n",
    "        - \"{what_comment}\"\n",
    "        [/INST]'''\n",
    "\n",
    "def prompt_different_command_r(what_comment):\n",
    "    return f'''\n",
    "        ## Instruction\n",
    "        You are provided a comment, explaining why news in a pair of news are different.\n",
    "        Your goal is to judge if out of this comment one can understand what these two news are about (Yes) or comment is just saying that the news are different (No).\n",
    "        \n",
    "        ## Examples\n",
    "        For instance, out of the following comments: \n",
    "        - \"Иск от журналистов и суд над полицейским\"\n",
    "        Yes, both news are briefly summarized.\n",
    "        - \"Поединок с единоборств в США;обзор пятерки старых бойцов единоборств\"\n",
    "        Yes, both news are briefly summarized.\n",
    "        - \"Перша стаття про те, що в Дагестані налагоджено випуск кисневих вентилів для медобладнання у зв'язку з попитом, що виріс через пандемію. Друга стаття про проведення \"контртерористичної операції\" у Махачкалі та Каспійську.\"\n",
    "        Yes, both news are briefly summarized.\n",
    "        - \"Перша-ковид в Украине,друга-парад в России\"\n",
    "        Yes, both news are briefly summarized.\n",
    "        - \"Нападение на пенсионера и погода\"\n",
    "        Yes, both news are briefly summarized.\n",
    "        - \"події різні\"\n",
    "        No, it just says that news are different.\n",
    "        - \"зовсім різні події\"\n",
    "        No, it just says that news are different.\n",
    "        - \"події ніяк не зв'язані між собою\"\n",
    "        No\n",
    "        \n",
    "        ## Input\n",
    "        - \"{what_comment}\"'''"
   ]
  },
  {
   "cell_type": "code",
   "execution_count": null,
   "id": "06e44425",
   "metadata": {},
   "outputs": [],
   "source": [
    "pool_different = pool[pool.what_same == \"different\"].copy()\n",
    "pool_different[\"mistral_prompt\"] = pool_different[\"what_comment\"].apply(prompt_different_mistral)\n",
    "pool_different[\"mistral_answer\"] = pool_different[\"mistral_prompt\"].apply(query_mistral)\n",
    "pool_different[\"command_r_prompt\"] = pool_different[\"what_comment\"].apply(prompt_different_command_r)\n",
    "pool_different[\"command_r_answer\"] = pool_different[\"command_r_prompt\"].apply(query_command_r)"
   ]
  },
  {
   "cell_type": "code",
   "execution_count": 617,
   "id": "4590398d",
   "metadata": {},
   "outputs": [],
   "source": [
    "def parse_response_different(input_string):\n",
    "    input_string = input_string.lower()\n",
    "    contains_yes = bool(re.search(r'\\byes\\b', input_string))\n",
    "    contains_no = bool(re.search(r'\\bno\\b', input_string))\n",
    "    \n",
    "    if contains_yes and not contains_no:\n",
    "        return \"Yes\"\n",
    "    elif contains_no and not contains_yes:\n",
    "        return \"No\"\n",
    "    else:\n",
    "        return \"Maybe\""
   ]
  },
  {
   "cell_type": "code",
   "execution_count": 618,
   "id": "350b9a04",
   "metadata": {},
   "outputs": [
    {
     "data": {
      "text/plain": [
       "Series([], Name: what_comment, dtype: object)"
      ]
     },
     "execution_count": 618,
     "metadata": {},
     "output_type": "execute_result"
    }
   ],
   "source": [
    "pool_different[\"Good_comment_mistral\"] = pool_different[\"mistral_answer\"].apply(parse_response_different)\n",
    "pool_different[pool_different.Good_comment_mistral != \"Yes\"].what_comment"
   ]
  },
  {
   "cell_type": "code",
   "execution_count": 619,
   "id": "52886670",
   "metadata": {},
   "outputs": [
    {
     "data": {
      "text/plain": [
       "5    1 стаття: Туркменістан Аірвейс призупинив поль...\n",
       "Name: what_comment, dtype: object"
      ]
     },
     "execution_count": 619,
     "metadata": {},
     "output_type": "execute_result"
    }
   ],
   "source": [
    "pool_different[\"Good_comment_command_r\"] = pool_different[\"command_r_answer\"].apply(parse_response_different)\n",
    "pool_different[pool_different.Good_comment_command_r != \"Yes\"].what_comment"
   ]
  },
  {
   "cell_type": "markdown",
   "id": "2009dcb6",
   "metadata": {},
   "source": [
    "### Reject/accept"
   ]
  },
  {
   "cell_type": "code",
   "execution_count": 622,
   "id": "1712bc33",
   "metadata": {},
   "outputs": [],
   "source": [
    "pool_different['ACCEPT:verdict'] = pool_different[\"Good_comment_command_r\"].apply(lambda x: \"+\" if x == \"Yes\" else \"-\")\n",
    "pool_different['ACCEPT:comment'] = pool_different[\"Good_comment_command_r\"].apply(lambda x: \"\" if x == \"Yes\" else \"У навчанні було показано, що якщо новини різні, правильним коментарем є коротке пояснення, про що одна і друга новина. Інформації, що новини різні, недостатньо.\")"
   ]
  },
  {
   "cell_type": "code",
   "execution_count": 624,
   "id": "068e9627",
   "metadata": {},
   "outputs": [],
   "source": [
    "pool_different = pool_different[[\n",
    "    'text1', 'text2', 'source1', 'source2', 'summ_text1', 'summ_text2',\n",
    "    'summ_with_documents_text1', 'summ_with_documents_text2', 'result',\n",
    "    'what_comment', 'what_same', 'type_problems_article_1',\n",
    "    'type_problems_article_2', 'comment_which_problems_article_1',\n",
    "    'comment_which_problems_article_2', 'link', 'task_id', 'assignment_id',\n",
    "    'worker_id', 'who_same', 'where_same', 'when_same',\n",
    "    'aggregated_who', 'aggregated_where', 'aggregated_when',\n",
    "    'aggregated_what', 'different_who', 'different_when', 'different_where',\n",
    "    'different_what', 'ACCEPT:verdict', 'ACCEPT:comment']]"
   ]
  },
  {
   "cell_type": "markdown",
   "id": "456c0791",
   "metadata": {},
   "source": [
    "# Somewhat related topics"
   ]
  },
  {
   "cell_type": "code",
   "execution_count": 625,
   "id": "dbaf065f",
   "metadata": {},
   "outputs": [],
   "source": [
    "def prompt_somewhat_related_mistral(what_comment):\n",
    "    return f'''\n",
    "        <s>[INST]\n",
    "        You are provided a comment written by a labeler, explaining why news in a pair of news are both on a one specific topic.\n",
    "        However, some labelers did not read the instruction, where it says that covid-19/elections/death in itself is too broad of a topic, to be common for news.\n",
    "        Also, if they did not read instruction, they won't specify the specific topic, just write smth like \"загальна тема\".\n",
    "        If news are both a specific subtopic of covid-19 e.g. death statistics, recent anti-covid measures, new vaccine, new stamm; a specific subtopic of elections e.g. elections in USA 2024, elections in Russia 2024, elections in covid; a specific subtopic of death e.g. death from war, death from murder on a street then they are both on a one specific topic, if they are both just about covid-19/elections/death it does not mean at all that they both are on a one specific topic.\n",
    "        Your goal is to judge if labelers did read the intruction (Yes), or they did not (No) and put a comment just saying that the common topic of news is covid-19.\n",
    "        ## Examples\n",
    "        - \"В обоих статьях затронута тема пандемии коронавируса\"\n",
    "        No, labeler did not read instruction, it's just a comment about covid-19.\n",
    "        - \"Общая тема ковида и постковида\"\n",
    "        No, labeler did not read instruction, it's just a comment about covid-19.\n",
    "        - \"Пандемия\"\n",
    "         No, labeler did not read instruction, it's just a comment about covid-19.\n",
    "        - \"Новый штамм короновируса и короновирус\"\n",
    "        Yes, it's not only about covid-19, but about new stamm of it\n",
    "        - \"загальна тема\"\n",
    "        No, it does not say anything about the topic.\n",
    "        - \"Дослідження COVID-19\"\n",
    "        Yes, it's not only about covid-19, but about research around it\n",
    "        - \"обе темы касаются паники по поводу ковида\"\n",
    "        Yes, it's not only about covid-19, but also about panic around it\n",
    "        - \"общая тема выборы\"\n",
    "        No, labeler did not read instruction, it's just a comment about elections\n",
    "        - \"Экстренная посадка самолёта\"\n",
    "        Yes, it's not about covid-19/elections/death\n",
    "        - \"обе темы касаются паники по поводу ковида\"\n",
    "        [/INST]\n",
    "        Yes, it's not only about covid-19, but also about panic around it\n",
    "        </s>\n",
    "        [INST]\n",
    "        - \"{what_comment}\"\n",
    "        [/INST]'''\n",
    "\n",
    "def prompt_somewhat_related_command_r(what_comment):\n",
    "    return f'''\n",
    "        ## Instruction\n",
    "        You are provided a comment written by a labeler, explaining why news in a pair of news are both on a one specific topic.\n",
    "        However, some labelers did not read the instruction, where it says that covid-19/elections/death in itself is too broad of a topic, to be common for news.\n",
    "        Also, if they did not read instruction, they won't specify the specific topic, just write smth like \"загальна тема\".\n",
    "        If news are both a specific subtopic of covid-19 e.g. death statistics, recent anti-covid measures, new vaccine, new stamm; a specific subtopic of elections e.g. elections in USA 2024, elections in Russia 2024, elections in covid; a specific subtopic of death e.g. death from war, death from murder on a street then they are both on a one specific topic, if they are both just about covid-19/elections/death it does not mean at all that they both are on a one specific topic.\n",
    "        Your goal is to judge if labelers did read the intruction (Yes), or they did not (No) and put a comment just saying that the common topic of news is covid-19.\n",
    "        \n",
    "        ## Examples\n",
    "        - \"В обоих статьях затронута тема пандемии коронавируса\"\n",
    "        No, labeler did not read instruction, it's just a comment about covid-19.\n",
    "        - \"Общая тема ковида и постковида\"\n",
    "        No, labeler did not read instruction, it's just a comment about covid-19.\n",
    "        - \"Пандемия\"\n",
    "         No, labeler did not read instruction, it's just a comment about covid-19.\n",
    "        - \"загальна тема\"\n",
    "        No, it does not say anything about the topic.\n",
    "        - \"Новый штамм короновируса и короновирус\"\n",
    "        Yes, it's not only about covid-19, but about new stamm of it\n",
    "        - \"общая тема выборы\"\n",
    "        No, labeler did not read instruction, it's just a comment about elections\n",
    "        - \"Дослідження COVID-19\"\n",
    "        Yes, it's not only about covid-19, but about research around it\n",
    "        - \"обе темы касаются паники по поводу ковида\"\n",
    "        Yes, it's not only about covid-19, but also about panic around it\n",
    "        - \"Экстренная посадка самолёта\"\n",
    "        Yes, it's not even about covid-19/elections/death\n",
    "        - \"обе темы касаются паники по поводу ковида\"\n",
    "        Yes, it's not only about covid-19, but also about panic around it\n",
    "        ## Input\n",
    "        - \"{what_comment}\"'''"
   ]
  },
  {
   "cell_type": "code",
   "execution_count": null,
   "id": "565accb1",
   "metadata": {},
   "outputs": [],
   "source": [
    "pool_somewhat_related = pool[pool.what_same == \"somewhat_related\"].copy()\n",
    "pool_somewhat_related[\"mistral_prompt\"] = pool_somewhat_related[\"what_comment\"].apply(prompt_somewhat_related_mistral)\n",
    "pool_somewhat_related[\"mistral_answer\"] = pool_somewhat_related[\"mistral_prompt\"].apply(query_mistral)\n",
    "pool_somewhat_related[\"command_r_prompt\"] = pool_somewhat_related[\"what_comment\"].apply(prompt_somewhat_related_command_r)\n",
    "pool_somewhat_related[\"command_r_answer\"] = pool_somewhat_related[\"command_r_prompt\"].apply(query_command_r)"
   ]
  },
  {
   "cell_type": "code",
   "execution_count": 629,
   "id": "6a75b958",
   "metadata": {},
   "outputs": [],
   "source": [
    "def parse_response_somewhat_related(input_string):\n",
    "    input_string = input_string.lower()\n",
    "    contains_yes = bool(re.search(r'\\byes\\b', input_string))\n",
    "    contains_no = bool(re.search(r'\\bno\\b', input_string))\n",
    "    \n",
    "    if contains_yes and not contains_no:\n",
    "        return \"Yes\"\n",
    "    elif contains_no and not contains_yes:\n",
    "        return \"No\"\n",
    "    else:\n",
    "        return \"Maybe\""
   ]
  },
  {
   "cell_type": "code",
   "execution_count": 630,
   "id": "060c0b8f",
   "metadata": {},
   "outputs": [
    {
     "data": {
      "text/plain": [
       "Series([], Name: what_comment, dtype: object)"
      ]
     },
     "execution_count": 630,
     "metadata": {},
     "output_type": "execute_result"
    }
   ],
   "source": [
    "pool_somewhat_related[\"Good_comment_mistral\"] = pool_somewhat_related[\"mistral_answer\"].apply(parse_response_somewhat_related)\n",
    "pool_somewhat_related[pool_somewhat_related.Good_comment_mistral != \"Yes\"].what_comment"
   ]
  },
  {
   "cell_type": "code",
   "execution_count": 631,
   "id": "9e53bddf",
   "metadata": {},
   "outputs": [
    {
     "data": {
      "text/plain": [
       "10    1 стаття: ринок нафти в Росії продовжує падінн...\n",
       "Name: what_comment, dtype: object"
      ]
     },
     "execution_count": 631,
     "metadata": {},
     "output_type": "execute_result"
    }
   ],
   "source": [
    "pool_somewhat_related[\"Good_comment_command_r\"] = pool_somewhat_related[\"command_r_answer\"].apply(parse_response_somewhat_related)\n",
    "pool_somewhat_related[pool_somewhat_related.Good_comment_command_r != \"Yes\"].what_comment"
   ]
  },
  {
   "cell_type": "markdown",
   "id": "df46f2d5",
   "metadata": {},
   "source": [
    "### Reject/accept"
   ]
  },
  {
   "cell_type": "code",
   "execution_count": 633,
   "id": "b94a42cd",
   "metadata": {},
   "outputs": [],
   "source": [
    "pool_somewhat_related['ACCEPT:verdict'] = pool_somewhat_related[\"Good_comment_command_r\"].apply(lambda x: \"+\" if x == \"Yes\" else \"-\")\n",
    "pool_somewhat_related['ACCEPT:comment'] = pool_somewhat_related[\"Good_comment_command_r\"].apply(lambda x: \"\" if x == \"Yes\" else \"В інструкції та прикладах було показано, що сам по собі covid-19/вибори/зглавтування/смерть/\\\"загальна тема\\\" не є достатньо конкретною загальною темою для новин, тому що величезна кількість абсолютно різних новин була написана на цю тему. Перечитайте, будь ласка, інструкцію.\")"
   ]
  },
  {
   "cell_type": "code",
   "execution_count": 635,
   "id": "20049a58",
   "metadata": {},
   "outputs": [],
   "source": [
    "pool_somewhat_related = pool_somewhat_related[[\n",
    "    'text1', 'text2', 'source1', 'source2', 'summ_text1', 'summ_text2',\n",
    "    'summ_with_documents_text1', 'summ_with_documents_text2', 'result',\n",
    "    'what_comment', 'what_same', 'type_problems_article_1',\n",
    "    'type_problems_article_2', 'comment_which_problems_article_1',\n",
    "    'comment_which_problems_article_2', 'link', 'task_id', 'assignment_id',\n",
    "    'worker_id', 'who_same', 'where_same', 'when_same',\n",
    "    'aggregated_who', 'aggregated_where', 'aggregated_when',\n",
    "    'aggregated_what', 'different_who', 'different_when', 'different_where',\n",
    "    'different_what', 'ACCEPT:verdict', 'ACCEPT:comment']]"
   ]
  },
  {
   "cell_type": "markdown",
   "id": "26ac724d",
   "metadata": {},
   "source": [
    "# Same topics"
   ]
  },
  {
   "cell_type": "code",
   "execution_count": 636,
   "id": "a9cfe910",
   "metadata": {},
   "outputs": [],
   "source": [
    "pool_similar = pool[pool.what_same == \"similar\"].copy()\n",
    "pool_similar['ACCEPT:verdict'] = pool_similar.apply(lambda row: \"+\" if row.who_same == \"yes\" and row.when_same == \"yes\" and row.where_same == \"yes\" else \"?\", axis=1)\n",
    "pool_similar['ACCEPT:comment'] = \"\""
   ]
  },
  {
   "cell_type": "markdown",
   "id": "df577ac9",
   "metadata": {},
   "source": [
    "# WHO/WHEN/WHERE/WHAT MV REJECT"
   ]
  },
  {
   "cell_type": "code",
   "execution_count": 637,
   "id": "34c4a723",
   "metadata": {},
   "outputs": [],
   "source": [
    "pool = pd.concat([pool_similar, pool_somewhat_related, pool_different], ignore_index=True)"
   ]
  },
  {
   "cell_type": "code",
   "execution_count": 638,
   "id": "c70bd690",
   "metadata": {},
   "outputs": [],
   "source": [
    "def who_comment_ukr(aggregated_who): #+аппеляция\n",
    "    #yes, no, partly, incomparable\n",
    "    question = \"Чи збігаються головні дійові особи новин? (ХТО)\"\n",
    "    if aggregated_who == \"yes\":\n",
    "        answer = \"У точностi\"\n",
    "    if aggregated_who == \"no\":\n",
    "        answer = \"Нi\"\n",
    "    if aggregated_who == \"partly\":\n",
    "        answer = \"Частково (є перетини)\"\n",
    "    if aggregated_who == \"incomparable\":\n",
    "        answer = \"У хоча б однієї статті немає дійових осіб\"\n",
    "    return f'''Ми відхиляємо Ваше завдання, оскільки дві інші людини, які розмістили цю пару новин, на запитання: \"{question}\" обидві відповіли: \"{answer}\". Якщо Ви вважаєте, що саме Ваша відповідь правильна, а не відповідь більшості, будь ласка, апелюйте відхилення, ми уважно перевіримо завдання ще раз.'''\n",
    "    \n",
    "def when_comment_ukr(aggregated_when):\n",
    "    #yes, no, partly, incomparable\n",
    "    question = \"Чи збігається час подій, що відбуваються в новинах? (КОЛИ)\"\n",
    "    if aggregated_when == \"yes\":\n",
    "        answer = \"Одна й та сама подія за часом\"\n",
    "    if aggregated_when == \"no\":\n",
    "        answer = \"Різниця, більше ніж місяць\"\n",
    "    if aggregated_when == \"partly\":\n",
    "        answer = \"У межах одного місяця\"\n",
    "    if aggregated_when == \"incomparable\":\n",
    "        answer = \"З хоча б однієї статті неможливо встановити час події\"\n",
    "    return f'''Ми відхиляємо Ваше завдання, оскільки дві інші людини, які розмістили цю пару новин, на запитання: \"{question}\" обидві відповіли: \"{answer}\". Якщо Ви вважаєте, що саме Ваша відповідь правильна, а не відповідь більшості, будь ласка, апелюйте відхилення, ми уважно перевіримо завдання ще раз.'''\n",
    "    \n",
    "def where_comment_ukr(aggregated_where):\n",
    "    #yes, no, partly, incomparable\n",
    "    question = \"Чи збігаються місця, в яких відбуваються події з новин? (ДЕ)\"\n",
    "    if aggregated_where == \"yes\":\n",
    "        answer = \"У точностi\"\n",
    "    if aggregated_where == \"no\":\n",
    "        answer = \"Нi\"\n",
    "    if aggregated_where == \"partly\":\n",
    "        answer = \"Частково (є перетини)\"\n",
    "    if aggregated_where == \"incomparable\":\n",
    "        answer = \"Хоча б в одній статті місце подій зовсім не вказано\"\n",
    "    return f'''Ми відхиляємо Ваше завдання, оскільки дві інші людини, які розмістили цю пару новин, на запитання: \"{question}\" обидві відповіли: \"{answer}\". Якщо Ви вважаєте, що саме Ваша відповідь правильна, а не відповідь більшості, будь ласка, апелюйте відхилення, ми уважно перевіримо завдання ще раз.'''\n",
    "    \n",
    "def what_comment_ukr(aggregated_what):\n",
    "    #somewhat_related, different, similar\n",
    "    question = \"Як співвідносяться теми/події новин? (ЩО)\"\n",
    "    if aggregated_what == \"similar\":\n",
    "        answer = \"Однакові\"\n",
    "    if aggregated_what == \"different\":\n",
    "        answer = \"Різні\"\n",
    "    if aggregated_what == \"somewhat_related\":\n",
    "        answer = \"Загальна конкретна тема\"\n",
    "    return f'''Ми відхиляємо Ваше завдання, оскільки дві інші людини, які розмістили цю пару новин, на запитання: \"{question}\" обидві відповіли: \"{answer}\". Якщо Ви вважаєте, що саме Ваша відповідь правильна, а не відповідь більшості, будь ласка, апелюйте відхилення, ми уважно перевіримо завдання ще раз.'''\n",
    "    \n",
    "\n",
    "def reject_accept(row):\n",
    "    if row[\"ACCEPT:verdict\"] == '-':\n",
    "        return [row[\"ACCEPT:verdict\"], row['ACCEPT:comment']]\n",
    "    if row.different_who and row.aggregated_who != \"disagreement\":\n",
    "        return ['-', who_comment_ukr(row['aggregated_who'])]\n",
    "    if row.different_when and row.aggregated_when != \"disagreement\":\n",
    "        return ['-', when_comment_ukr(row['aggregated_when'])]\n",
    "    if row.different_what and row.aggregated_what != \"disagreement\":\n",
    "        return ['-', what_comment_ukr(row['aggregated_what'])]\n",
    "    if row.different_where and row.aggregated_where != \"disagreement\":\n",
    "        return ['-', where_comment_ukr(row['aggregated_where'])]\n",
    "    if (not row.different_who) and (not row.different_when) and (not row.different_where) and (not row.different_what) and (row[\"ACCEPT:verdict\"] == \"+\"):\n",
    "        return ['+', '']\n",
    "    return ['?', '']\n",
    "\n",
    "results = pool.apply(reject_accept, axis=1)\n",
    "pool['ACCEPT:verdict'] = [result[0] for result in results]\n",
    "pool['ACCEPT:comment'] = [result[1] for result in results]"
   ]
  },
  {
   "cell_type": "markdown",
   "id": "aa6fb8a2",
   "metadata": {},
   "source": [
    "# Final reject/accept file"
   ]
  },
  {
   "cell_type": "code",
   "execution_count": 639,
   "id": "92f200fd",
   "metadata": {},
   "outputs": [],
   "source": [
    "pool.reset_index(drop=True, inplace=True)"
   ]
  },
  {
   "cell_type": "code",
   "execution_count": 641,
   "id": "1d034df7",
   "metadata": {},
   "outputs": [
    {
     "name": "stdout",
     "output_type": "stream",
     "text": [
      "For manual acceptance goes: 1\n"
     ]
    }
   ],
   "source": [
    "result = pool[['assignment_id', 'ACCEPT:verdict', 'ACCEPT:comment']]\n",
    "print('For manual acceptance goes:', result[result['ACCEPT:verdict'] == '?'].shape[0])\n",
    "result = result[result['ACCEPT:verdict'] != '?']\n",
    "result = result.rename(columns={\"assignment_id\": \"ASSIGNMENT:assignment_id\"})\n",
    "result.to_csv('reject_accept_batch_3_ukr_ru.tsv', sep='\\t', header=True, index=False)"
   ]
  }
 ],
 "metadata": {
  "kernelspec": {
   "display_name": "i2dl",
   "language": "python",
   "name": "i2dl"
  },
  "language_info": {
   "codemirror_mode": {
    "name": "ipython",
    "version": 3
   },
   "file_extension": ".py",
   "mimetype": "text/x-python",
   "name": "python",
   "nbconvert_exporter": "python",
   "pygments_lexer": "ipython3",
   "version": "3.8.5"
  }
 },
 "nbformat": 4,
 "nbformat_minor": 5
}
